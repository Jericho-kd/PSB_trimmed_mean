{
 "cells": [
  {
   "cell_type": "code",
   "execution_count": 1,
   "metadata": {},
   "outputs": [],
   "source": [
    "import pandas as pd\n",
    "from scipy import stats"
   ]
  },
  {
   "cell_type": "code",
   "execution_count": 2,
   "metadata": {},
   "outputs": [],
   "source": [
    "data = pd.read_excel('Задание.xlsx', index_col='id_ds')"
   ]
  },
  {
   "cell_type": "code",
   "execution_count": 3,
   "metadata": {},
   "outputs": [
    {
     "data": {
      "text/html": [
       "<div>\n",
       "<style scoped>\n",
       "    .dataframe tbody tr th:only-of-type {\n",
       "        vertical-align: middle;\n",
       "    }\n",
       "\n",
       "    .dataframe tbody tr th {\n",
       "        vertical-align: top;\n",
       "    }\n",
       "\n",
       "    .dataframe thead th {\n",
       "        text-align: right;\n",
       "    }\n",
       "</style>\n",
       "<table border=\"1\" class=\"dataframe\">\n",
       "  <thead>\n",
       "    <tr style=\"text-align: right;\">\n",
       "      <th></th>\n",
       "      <th>city</th>\n",
       "      <th>salary</th>\n",
       "    </tr>\n",
       "    <tr>\n",
       "      <th>id_ds</th>\n",
       "      <th></th>\n",
       "      <th></th>\n",
       "    </tr>\n",
       "  </thead>\n",
       "  <tbody>\n",
       "    <tr>\n",
       "      <th>1</th>\n",
       "      <td>St.Petersburg</td>\n",
       "      <td>93</td>\n",
       "    </tr>\n",
       "    <tr>\n",
       "      <th>2</th>\n",
       "      <td>RU</td>\n",
       "      <td>55</td>\n",
       "    </tr>\n",
       "    <tr>\n",
       "      <th>3</th>\n",
       "      <td>Moscow</td>\n",
       "      <td>361</td>\n",
       "    </tr>\n",
       "    <tr>\n",
       "      <th>4</th>\n",
       "      <td>Moscow</td>\n",
       "      <td>161</td>\n",
       "    </tr>\n",
       "    <tr>\n",
       "      <th>5</th>\n",
       "      <td>St.Petersburg</td>\n",
       "      <td>217</td>\n",
       "    </tr>\n",
       "  </tbody>\n",
       "</table>\n",
       "</div>"
      ],
      "text/plain": [
       "                city  salary\n",
       "id_ds                       \n",
       "1      St.Petersburg      93\n",
       "2                 RU      55\n",
       "3             Moscow     361\n",
       "4             Moscow     161\n",
       "5      St.Petersburg     217"
      ]
     },
     "execution_count": 3,
     "metadata": {},
     "output_type": "execute_result"
    }
   ],
   "source": [
    "data.head()"
   ]
  },
  {
   "cell_type": "code",
   "execution_count": 4,
   "metadata": {},
   "outputs": [
    {
     "data": {
      "text/plain": [
       "['St.Petersburg', 'RU', 'Moscow', 'West', 'exCCCP']"
      ]
     },
     "execution_count": 4,
     "metadata": {},
     "output_type": "execute_result"
    }
   ],
   "source": [
    "unique_cities = list(data['city'].unique())\n",
    "unique_cities"
   ]
  },
  {
   "cell_type": "code",
   "execution_count": 5,
   "metadata": {},
   "outputs": [],
   "source": [
    "def trim_mean(city):\n",
    "    city_df = data.loc[data['city']==city, ['salary']].sort_values(by='salary')\n",
    "    city_trim_mean = stats.trim_mean(city_df, proportiontocut=0.2, axis=0)\n",
    "    print(f'{city}: trimmed mean {city_trim_mean[0]:.5}')"
   ]
  },
  {
   "cell_type": "markdown",
   "metadata": {},
   "source": [
    "## Решение с применением итератора"
   ]
  },
  {
   "cell_type": "code",
   "execution_count": 6,
   "metadata": {},
   "outputs": [
    {
     "name": "stdout",
     "output_type": "stream",
     "text": [
      "St.Petersburg: trimmed mean 105.18\n",
      "RU: trimmed mean 119.61\n",
      "Moscow: trimmed mean 197.25\n",
      "West: trimmed mean 360.67\n",
      "exCCCP: trimmed mean 106.02\n"
     ]
    }
   ],
   "source": [
    "cities_iterator = iter(unique_cities)\n",
    "trim_mean(next(cities_iterator))\n",
    "trim_mean(next(cities_iterator))\n",
    "trim_mean(next(cities_iterator))\n",
    "trim_mean(next(cities_iterator))\n",
    "trim_mean(next(cities_iterator))"
   ]
  },
  {
   "cell_type": "markdown",
   "metadata": {},
   "source": [
    "## Решение с применением map и apply"
   ]
  },
  {
   "cell_type": "code",
   "execution_count": 7,
   "metadata": {},
   "outputs": [],
   "source": [
    "def apply_func(city):\n",
    "    city_df = data.loc[data['city']==city, ['salary']].sort_values(by='salary')\n",
    "    apply_trim_mean = city_df.apply(lambda data: stats.trim_mean(data, proportiontocut=0.2, axis=0))[0]\n",
    "    return apply_trim_mean"
   ]
  },
  {
   "cell_type": "code",
   "execution_count": 8,
   "metadata": {},
   "outputs": [
    {
     "data": {
      "text/plain": [
       "{'St.Petersburg': 105.18,\n",
       " 'RU': 119.61,\n",
       " 'Moscow': 197.25,\n",
       " 'West': 360.67,\n",
       " 'exCCCP': 106.02}"
      ]
     },
     "execution_count": 8,
     "metadata": {},
     "output_type": "execute_result"
    }
   ],
   "source": [
    "mean_map = map(apply_func, unique_cities)\n",
    "dict(zip(unique_cities, map(lambda x: round(x, 2), mean_map)))"
   ]
  },
  {
   "cell_type": "markdown",
   "metadata": {},
   "source": [
    "## Решение с применением рекурсии"
   ]
  },
  {
   "cell_type": "code",
   "execution_count": 9,
   "metadata": {},
   "outputs": [],
   "source": [
    "def loopless_trim_mean(cities_list):\n",
    "    if cities_list:\n",
    "        city = cities_list.pop()\n",
    "        loopless_trim_mean(cities_list)\n",
    "        trim_mean(city)\n",
    "    else:\n",
    "        return 1"
   ]
  },
  {
   "cell_type": "code",
   "execution_count": 10,
   "metadata": {},
   "outputs": [
    {
     "name": "stdout",
     "output_type": "stream",
     "text": [
      "St.Petersburg: trimmed mean 105.18\n",
      "RU: trimmed mean 119.61\n",
      "Moscow: trimmed mean 197.25\n",
      "West: trimmed mean 360.67\n",
      "exCCCP: trimmed mean 106.02\n"
     ]
    }
   ],
   "source": [
    "loopless_trim_mean(unique_cities)"
   ]
  }
 ],
 "metadata": {
  "kernelspec": {
   "display_name": "Python 3",
   "language": "python",
   "name": "python3"
  },
  "language_info": {
   "codemirror_mode": {
    "name": "ipython",
    "version": 3
   },
   "file_extension": ".py",
   "mimetype": "text/x-python",
   "name": "python",
   "nbconvert_exporter": "python",
   "pygments_lexer": "ipython3",
   "version": "3.6.9"
  }
 },
 "nbformat": 4,
 "nbformat_minor": 4
}
